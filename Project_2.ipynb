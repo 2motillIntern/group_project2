{
 "cells": [
  {
   "cell_type": "code",
   "execution_count": null,
   "metadata": {},
   "outputs": [],
   "source": [
    "from IPython.display import clear_output\n",
    "\n",
    "class Garage:\n",
    "    #attributes\n",
    "    def __init__(self, tickets, parkingSpaces, currentTickets):\n",
    "        self.tickets = [*range(1,11)]\n",
    "        self.parkingSpaces =  [*range(1,11)]\n",
    "        self.currentTickets = {}\n",
    "    #Methods\n",
    "    def takeTicket(self):\n",
    "        clear_output()\n",
    "        if len(self.tickets) > 0:\n",
    "            print(f'You took ticket number {self.tickets[0]}')\n",
    "            self.currentTickets[self.tickets[0]]='occupied'\n",
    "            self.tickets.remove(self.tickets[0])\n",
    "            self.parkingSpaces.remove(self.parkingSpaces[0])\n",
    "        else:\n",
    "            print(\"sorry we're all full. :(\")\n",
    "    def payParking(self):\n",
    "        clear_output()\n",
    "        space = input(\"What's your ticket number?\")\n",
    "        status = self.currentTickets[int(space)] \n",
    "        if status =='occupied':\n",
    "            pay = input('You owe $1. (type \"$1\" to pay) ')\n",
    "            if pay == '$1':\n",
    "                self.currentTickets[int(space)]=\"paid\"\n",
    "                print(\"Thanks for paying. You have 15 minutes to leave.\")\n",
    "        elif status == 'paid':\n",
    "            print(f'ticket {space} has already been paid for')\n",
    "        else:\n",
    "            print(\"Your money seems funny. We don't play that here. Try again.\")\n",
    "          \n",
    "    def leaveGarage(self):\n",
    "        clear_output()\n",
    "        space = input(\"What's your ticket number?\")\n",
    "        status = self.currentTickets[int(space)]\n",
    "        if status =='occupied':\n",
    "            print(\"You can't leave without paying.\")\n",
    "        elif status =='paid':\n",
    "            print(\"Thanks. buh bye!\")\n",
    "            self.tickets.append(int(space))\n",
    "            self.parkingSpaces.append(int(space))\n",
    "            self.currentTickets[space]=\"free\"\n",
    "        else:\n",
    "            print(\"that ticket isn't gonna work here. Try again\")\n",
    "\n",
    "garageA = Garage(\"\",\"\",\"\" )\n",
    "\n",
    "def run():\n",
    "    while True:\n",
    "        response = input('Welcome to the Garage. Please choose a command. ENTER, PAY, or LEAVE: ')\n",
    "        if response.lower() == \"enter\":\n",
    "            garageA.takeTicket()\n",
    "        if response.lower() == \"pay\":\n",
    "            garageA.payParking()\n",
    "        if response.lower() == \"leave\":\n",
    "            garageA.leaveGarage()\n",
    "run()\n",
    "\n"
   ]
  },
  {
   "cell_type": "code",
   "execution_count": 3,
   "metadata": {},
   "outputs": [
    {
     "name": "stdout",
     "output_type": "stream",
     "text": [
      "occupied\n"
     ]
    }
   ],
   "source": []
  },
  {
   "cell_type": "code",
   "execution_count": null,
   "metadata": {},
   "outputs": [],
   "source": []
  }
 ],
 "metadata": {
  "kernelspec": {
   "display_name": "Python 3",
   "language": "python",
   "name": "python3"
  },
  "language_info": {
   "codemirror_mode": {
    "name": "ipython",
    "version": 3
   },
   "file_extension": ".py",
   "mimetype": "text/x-python",
   "name": "python",
   "nbconvert_exporter": "python",
   "pygments_lexer": "ipython3",
   "version": "3.8.3"
  }
 },
 "nbformat": 4,
 "nbformat_minor": 4
}
